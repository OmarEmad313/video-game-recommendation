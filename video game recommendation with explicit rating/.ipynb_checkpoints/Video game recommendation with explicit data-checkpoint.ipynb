{
 "cells": [
  {
   "cell_type": "code",
   "execution_count": 1,
   "id": "e5764cf0",
   "metadata": {},
   "outputs": [],
   "source": [
    "import pandas as pd\n",
    "import numpy as np\n",
    "import tensorflow as tf\n",
    "import sklearn"
   ]
  },
  {
   "cell_type": "code",
   "execution_count": 2,
   "id": "d6ed2312",
   "metadata": {},
   "outputs": [],
   "source": [
    "import os\n",
    "import json"
   ]
  },
  {
   "cell_type": "code",
   "execution_count": 3,
   "id": "dd518ace",
   "metadata": {},
   "outputs": [],
   "source": [
    "import re\n",
    "from datetime import datetime\n",
    "## for plotting\n",
    "import matplotlib.pyplot as plt\n",
    "import seaborn as sns\n",
    "## for machine learning\n",
    "from sklearn import metrics, preprocessing\n",
    "## for deep learning\n",
    "from tensorflow.keras import models, layers, utils  #(2.6.0)"
   ]
  },
  {
   "cell_type": "code",
   "execution_count": 4,
   "id": "e43f990f",
   "metadata": {},
   "outputs": [],
   "source": [
    "# data viz\n",
    "import matplotlib.pyplot as plt\n",
    "from matplotlib import rcParams\n",
    "import seaborn as sns\n"
   ]
  },
  {
   "cell_type": "code",
   "execution_count": 5,
   "id": "8eb6a232",
   "metadata": {},
   "outputs": [],
   "source": [
    "# apply some cool styling\n",
    "plt.style.use(\"ggplot\")\n",
    "rcParams['figure.figsize'] = (12,  6)\n"
   ]
  },
  {
   "cell_type": "markdown",
   "id": "b219afb5",
   "metadata": {},
   "source": [
    "# Users Dataset"
   ]
  },
  {
   "cell_type": "code",
   "execution_count": 6,
   "id": "a6f503ef",
   "metadata": {},
   "outputs": [],
   "source": [
    "#userDataset = pd.read_csv('raw_data\\steam_users_purchase_play.csv')"
   ]
  },
  {
   "cell_type": "code",
   "execution_count": 7,
   "id": "a3c44183",
   "metadata": {},
   "outputs": [],
   "source": [
    "#dfUsers = pd.DataFrame(userDataset)"
   ]
  },
  {
   "cell_type": "code",
   "execution_count": 8,
   "id": "e4d5a02f",
   "metadata": {},
   "outputs": [],
   "source": [
    "#list(dfUsers.columns)"
   ]
  },
  {
   "cell_type": "code",
   "execution_count": 9,
   "id": "2333b3e4",
   "metadata": {},
   "outputs": [],
   "source": [
    "#display(dfUsers)"
   ]
  },
  {
   "cell_type": "markdown",
   "id": "268a4d00",
   "metadata": {},
   "source": [
    "# Games Dataset"
   ]
  },
  {
   "cell_type": "code",
   "execution_count": 10,
   "id": "d8fd5ede",
   "metadata": {},
   "outputs": [],
   "source": [
    "# games2005 = pd.read_csv('raw_data\\year 2005-2008.csv')\n",
    "# games2008 = pd.read_csv('raw_data\\year 2008-2011.csv')\n",
    "# games2011 = pd.read_csv('raw_data\\year 2011-2014.csv')\n",
    "# games2014 = pd.read_csv('raw_data\\year 2014-2017.csv')\n",
    "# games2017 = pd.read_csv('raw_data\\year 2017-2022.csv')"
   ]
  },
  {
   "cell_type": "code",
   "execution_count": 11,
   "id": "97565998",
   "metadata": {},
   "outputs": [],
   "source": [
    "# df2005 = pd.DataFrame(games2005)\n",
    "# df2008 = pd.DataFrame(games2008)\n",
    "# df2011 = pd.DataFrame(games2011)\n",
    "# df2014 = pd.DataFrame(games2014)\n",
    "# df2017 = pd.DataFrame(games2017)"
   ]
  },
  {
   "cell_type": "code",
   "execution_count": 12,
   "id": "1603055e",
   "metadata": {},
   "outputs": [],
   "source": [
    "# dfGames = pd.concat([df2005, df2008,df2011,df2014,df2017], axis=0)"
   ]
  },
  {
   "cell_type": "code",
   "execution_count": 13,
   "id": "8727714a",
   "metadata": {},
   "outputs": [],
   "source": [
    "# dfGames.info()"
   ]
  },
  {
   "cell_type": "code",
   "execution_count": 14,
   "id": "fd8867f5",
   "metadata": {},
   "outputs": [],
   "source": [
    "#  dfGames.rename(columns={'name': 'game_name'},\n",
    "#           inplace=True, errors='raise')"
   ]
  },
  {
   "cell_type": "code",
   "execution_count": 15,
   "id": "c79067ef",
   "metadata": {},
   "outputs": [],
   "source": [
    "# display(dfGames)"
   ]
  },
  {
   "cell_type": "markdown",
   "id": "8b323ca1",
   "metadata": {},
   "source": [
    "# Merged dataset"
   ]
  },
  {
   "cell_type": "code",
   "execution_count": 16,
   "id": "7d0a5926",
   "metadata": {},
   "outputs": [],
   "source": [
    "#df=pd.merge(dfUsers,dfGames)"
   ]
  },
  {
   "cell_type": "code",
   "execution_count": 17,
   "id": "2761849d",
   "metadata": {},
   "outputs": [
    {
     "name": "stderr",
     "output_type": "stream",
     "text": [
      "C:\\Users\\USCS\\AppData\\Local\\Temp\\ipykernel_13936\\3590791216.py:1: DtypeWarning: Columns (85,103,115,119,123) have mixed types. Specify dtype option on import or set low_memory=False.\n",
      "  df = pd.read_csv('users_games_dataset.csv')\n"
     ]
    }
   ],
   "source": [
    "df = pd.read_csv('users_games_dataset.csv')"
   ]
  },
  {
   "cell_type": "code",
   "execution_count": 18,
   "id": "dfbaf04b",
   "metadata": {},
   "outputs": [],
   "source": [
    "#df.to_csv('users_games_dataset.csv')"
   ]
  },
  {
   "cell_type": "code",
   "execution_count": 19,
   "id": "3b750d1b",
   "metadata": {},
   "outputs": [
    {
     "data": {
      "text/html": [
       "<div>\n",
       "<style scoped>\n",
       "    .dataframe tbody tr th:only-of-type {\n",
       "        vertical-align: middle;\n",
       "    }\n",
       "\n",
       "    .dataframe tbody tr th {\n",
       "        vertical-align: top;\n",
       "    }\n",
       "\n",
       "    .dataframe thead th {\n",
       "        text-align: right;\n",
       "    }\n",
       "</style>\n",
       "<table border=\"1\" class=\"dataframe\">\n",
       "  <thead>\n",
       "    <tr style=\"text-align: right;\">\n",
       "      <th></th>\n",
       "      <th>Unnamed: 0</th>\n",
       "      <th>user_id</th>\n",
       "      <th>game_name</th>\n",
       "      <th>hours</th>\n",
       "      <th>purchase</th>\n",
       "      <th>play</th>\n",
       "      <th>id</th>\n",
       "      <th>category</th>\n",
       "      <th>collection/id</th>\n",
       "      <th>collection/name</th>\n",
       "      <th>...</th>\n",
       "      <th>genres/5/id</th>\n",
       "      <th>genres/5/name</th>\n",
       "      <th>themes/5/id</th>\n",
       "      <th>themes/5/name</th>\n",
       "      <th>themes/6/id</th>\n",
       "      <th>themes/6/name</th>\n",
       "      <th>game_modes/4/id</th>\n",
       "      <th>game_modes/4/name</th>\n",
       "      <th>genres/6/id</th>\n",
       "      <th>genres/6/name</th>\n",
       "    </tr>\n",
       "  </thead>\n",
       "  <tbody>\n",
       "    <tr>\n",
       "      <th>0</th>\n",
       "      <td>0</td>\n",
       "      <td>151603712</td>\n",
       "      <td>Fallout 4</td>\n",
       "      <td>87.0</td>\n",
       "      <td>1</td>\n",
       "      <td>1</td>\n",
       "      <td>9630</td>\n",
       "      <td>0</td>\n",
       "      <td>3</td>\n",
       "      <td>Fallout</td>\n",
       "      <td>...</td>\n",
       "      <td>NaN</td>\n",
       "      <td>NaN</td>\n",
       "      <td>NaN</td>\n",
       "      <td>NaN</td>\n",
       "      <td>NaN</td>\n",
       "      <td>NaN</td>\n",
       "      <td>NaN</td>\n",
       "      <td>NaN</td>\n",
       "      <td>NaN</td>\n",
       "      <td>NaN</td>\n",
       "    </tr>\n",
       "    <tr>\n",
       "      <th>1</th>\n",
       "      <td>1</td>\n",
       "      <td>87445402</td>\n",
       "      <td>Fallout 4</td>\n",
       "      <td>83.0</td>\n",
       "      <td>1</td>\n",
       "      <td>1</td>\n",
       "      <td>9630</td>\n",
       "      <td>0</td>\n",
       "      <td>3</td>\n",
       "      <td>Fallout</td>\n",
       "      <td>...</td>\n",
       "      <td>NaN</td>\n",
       "      <td>NaN</td>\n",
       "      <td>NaN</td>\n",
       "      <td>NaN</td>\n",
       "      <td>NaN</td>\n",
       "      <td>NaN</td>\n",
       "      <td>NaN</td>\n",
       "      <td>NaN</td>\n",
       "      <td>NaN</td>\n",
       "      <td>NaN</td>\n",
       "    </tr>\n",
       "    <tr>\n",
       "      <th>2</th>\n",
       "      <td>2</td>\n",
       "      <td>25096601</td>\n",
       "      <td>Fallout 4</td>\n",
       "      <td>1.6</td>\n",
       "      <td>1</td>\n",
       "      <td>1</td>\n",
       "      <td>9630</td>\n",
       "      <td>0</td>\n",
       "      <td>3</td>\n",
       "      <td>Fallout</td>\n",
       "      <td>...</td>\n",
       "      <td>NaN</td>\n",
       "      <td>NaN</td>\n",
       "      <td>NaN</td>\n",
       "      <td>NaN</td>\n",
       "      <td>NaN</td>\n",
       "      <td>NaN</td>\n",
       "      <td>NaN</td>\n",
       "      <td>NaN</td>\n",
       "      <td>NaN</td>\n",
       "      <td>NaN</td>\n",
       "    </tr>\n",
       "    <tr>\n",
       "      <th>3</th>\n",
       "      <td>3</td>\n",
       "      <td>211925330</td>\n",
       "      <td>Fallout 4</td>\n",
       "      <td>133.0</td>\n",
       "      <td>1</td>\n",
       "      <td>1</td>\n",
       "      <td>9630</td>\n",
       "      <td>0</td>\n",
       "      <td>3</td>\n",
       "      <td>Fallout</td>\n",
       "      <td>...</td>\n",
       "      <td>NaN</td>\n",
       "      <td>NaN</td>\n",
       "      <td>NaN</td>\n",
       "      <td>NaN</td>\n",
       "      <td>NaN</td>\n",
       "      <td>NaN</td>\n",
       "      <td>NaN</td>\n",
       "      <td>NaN</td>\n",
       "      <td>NaN</td>\n",
       "      <td>NaN</td>\n",
       "    </tr>\n",
       "    <tr>\n",
       "      <th>4</th>\n",
       "      <td>4</td>\n",
       "      <td>115396529</td>\n",
       "      <td>Fallout 4</td>\n",
       "      <td>17.9</td>\n",
       "      <td>1</td>\n",
       "      <td>1</td>\n",
       "      <td>9630</td>\n",
       "      <td>0</td>\n",
       "      <td>3</td>\n",
       "      <td>Fallout</td>\n",
       "      <td>...</td>\n",
       "      <td>NaN</td>\n",
       "      <td>NaN</td>\n",
       "      <td>NaN</td>\n",
       "      <td>NaN</td>\n",
       "      <td>NaN</td>\n",
       "      <td>NaN</td>\n",
       "      <td>NaN</td>\n",
       "      <td>NaN</td>\n",
       "      <td>NaN</td>\n",
       "      <td>NaN</td>\n",
       "    </tr>\n",
       "    <tr>\n",
       "      <th>...</th>\n",
       "      <td>...</td>\n",
       "      <td>...</td>\n",
       "      <td>...</td>\n",
       "      <td>...</td>\n",
       "      <td>...</td>\n",
       "      <td>...</td>\n",
       "      <td>...</td>\n",
       "      <td>...</td>\n",
       "      <td>...</td>\n",
       "      <td>...</td>\n",
       "      <td>...</td>\n",
       "      <td>...</td>\n",
       "      <td>...</td>\n",
       "      <td>...</td>\n",
       "      <td>...</td>\n",
       "      <td>...</td>\n",
       "      <td>...</td>\n",
       "      <td>...</td>\n",
       "      <td>...</td>\n",
       "      <td>...</td>\n",
       "      <td>...</td>\n",
       "    </tr>\n",
       "    <tr>\n",
       "      <th>14201</th>\n",
       "      <td>14201</td>\n",
       "      <td>76892907</td>\n",
       "      <td>Double Dragon Trilogy</td>\n",
       "      <td>0.0</td>\n",
       "      <td>1</td>\n",
       "      <td>0</td>\n",
       "      <td>23805</td>\n",
       "      <td>3</td>\n",
       "      <td>694</td>\n",
       "      <td>Double Dragon</td>\n",
       "      <td>...</td>\n",
       "      <td>NaN</td>\n",
       "      <td>NaN</td>\n",
       "      <td>NaN</td>\n",
       "      <td>NaN</td>\n",
       "      <td>NaN</td>\n",
       "      <td>NaN</td>\n",
       "      <td>NaN</td>\n",
       "      <td>NaN</td>\n",
       "      <td>NaN</td>\n",
       "      <td>NaN</td>\n",
       "    </tr>\n",
       "    <tr>\n",
       "      <th>14202</th>\n",
       "      <td>14202</td>\n",
       "      <td>76892907</td>\n",
       "      <td>EvilQuest</td>\n",
       "      <td>0.0</td>\n",
       "      <td>1</td>\n",
       "      <td>0</td>\n",
       "      <td>3237</td>\n",
       "      <td>0</td>\n",
       "      <td>585</td>\n",
       "      <td>EvilQuest</td>\n",
       "      <td>...</td>\n",
       "      <td>NaN</td>\n",
       "      <td>NaN</td>\n",
       "      <td>NaN</td>\n",
       "      <td>NaN</td>\n",
       "      <td>NaN</td>\n",
       "      <td>NaN</td>\n",
       "      <td>NaN</td>\n",
       "      <td>NaN</td>\n",
       "      <td>NaN</td>\n",
       "      <td>NaN</td>\n",
       "    </tr>\n",
       "    <tr>\n",
       "      <th>14203</th>\n",
       "      <td>14203</td>\n",
       "      <td>204401529</td>\n",
       "      <td>Assassin's Creed Rogue</td>\n",
       "      <td>62.0</td>\n",
       "      <td>1</td>\n",
       "      <td>1</td>\n",
       "      <td>7570</td>\n",
       "      <td>0</td>\n",
       "      <td>18</td>\n",
       "      <td>Assassin's Creed</td>\n",
       "      <td>...</td>\n",
       "      <td>NaN</td>\n",
       "      <td>NaN</td>\n",
       "      <td>NaN</td>\n",
       "      <td>NaN</td>\n",
       "      <td>NaN</td>\n",
       "      <td>NaN</td>\n",
       "      <td>NaN</td>\n",
       "      <td>NaN</td>\n",
       "      <td>NaN</td>\n",
       "      <td>NaN</td>\n",
       "    </tr>\n",
       "    <tr>\n",
       "      <th>14204</th>\n",
       "      <td>14204</td>\n",
       "      <td>116564064</td>\n",
       "      <td>Assassin's Creed Rogue</td>\n",
       "      <td>0.0</td>\n",
       "      <td>1</td>\n",
       "      <td>0</td>\n",
       "      <td>7570</td>\n",
       "      <td>0</td>\n",
       "      <td>18</td>\n",
       "      <td>Assassin's Creed</td>\n",
       "      <td>...</td>\n",
       "      <td>NaN</td>\n",
       "      <td>NaN</td>\n",
       "      <td>NaN</td>\n",
       "      <td>NaN</td>\n",
       "      <td>NaN</td>\n",
       "      <td>NaN</td>\n",
       "      <td>NaN</td>\n",
       "      <td>NaN</td>\n",
       "      <td>NaN</td>\n",
       "      <td>NaN</td>\n",
       "    </tr>\n",
       "    <tr>\n",
       "      <th>14205</th>\n",
       "      <td>14205</td>\n",
       "      <td>190650796</td>\n",
       "      <td>Doodle God</td>\n",
       "      <td>6.4</td>\n",
       "      <td>1</td>\n",
       "      <td>1</td>\n",
       "      <td>18528</td>\n",
       "      <td>0</td>\n",
       "      <td>2615</td>\n",
       "      <td>Doodle God</td>\n",
       "      <td>...</td>\n",
       "      <td>NaN</td>\n",
       "      <td>NaN</td>\n",
       "      <td>NaN</td>\n",
       "      <td>NaN</td>\n",
       "      <td>NaN</td>\n",
       "      <td>NaN</td>\n",
       "      <td>NaN</td>\n",
       "      <td>NaN</td>\n",
       "      <td>NaN</td>\n",
       "      <td>NaN</td>\n",
       "    </tr>\n",
       "  </tbody>\n",
       "</table>\n",
       "<p>14206 rows × 128 columns</p>\n",
       "</div>"
      ],
      "text/plain": [
       "       Unnamed: 0    user_id               game_name  hours  purchase  play  \\\n",
       "0               0  151603712               Fallout 4   87.0         1     1   \n",
       "1               1   87445402               Fallout 4   83.0         1     1   \n",
       "2               2   25096601               Fallout 4    1.6         1     1   \n",
       "3               3  211925330               Fallout 4  133.0         1     1   \n",
       "4               4  115396529               Fallout 4   17.9         1     1   \n",
       "...           ...        ...                     ...    ...       ...   ...   \n",
       "14201       14201   76892907   Double Dragon Trilogy    0.0         1     0   \n",
       "14202       14202   76892907               EvilQuest    0.0         1     0   \n",
       "14203       14203  204401529  Assassin's Creed Rogue   62.0         1     1   \n",
       "14204       14204  116564064  Assassin's Creed Rogue    0.0         1     0   \n",
       "14205       14205  190650796              Doodle God    6.4         1     1   \n",
       "\n",
       "          id  category  collection/id   collection/name  ...  genres/5/id  \\\n",
       "0       9630         0              3           Fallout  ...          NaN   \n",
       "1       9630         0              3           Fallout  ...          NaN   \n",
       "2       9630         0              3           Fallout  ...          NaN   \n",
       "3       9630         0              3           Fallout  ...          NaN   \n",
       "4       9630         0              3           Fallout  ...          NaN   \n",
       "...      ...       ...            ...               ...  ...          ...   \n",
       "14201  23805         3            694     Double Dragon  ...          NaN   \n",
       "14202   3237         0            585         EvilQuest  ...          NaN   \n",
       "14203   7570         0             18  Assassin's Creed  ...          NaN   \n",
       "14204   7570         0             18  Assassin's Creed  ...          NaN   \n",
       "14205  18528         0           2615        Doodle God  ...          NaN   \n",
       "\n",
       "      genres/5/name  themes/5/id themes/5/name  themes/6/id themes/6/name  \\\n",
       "0               NaN          NaN           NaN          NaN           NaN   \n",
       "1               NaN          NaN           NaN          NaN           NaN   \n",
       "2               NaN          NaN           NaN          NaN           NaN   \n",
       "3               NaN          NaN           NaN          NaN           NaN   \n",
       "4               NaN          NaN           NaN          NaN           NaN   \n",
       "...             ...          ...           ...          ...           ...   \n",
       "14201           NaN          NaN           NaN          NaN           NaN   \n",
       "14202           NaN          NaN           NaN          NaN           NaN   \n",
       "14203           NaN          NaN           NaN          NaN           NaN   \n",
       "14204           NaN          NaN           NaN          NaN           NaN   \n",
       "14205           NaN          NaN           NaN          NaN           NaN   \n",
       "\n",
       "       game_modes/4/id game_modes/4/name  genres/6/id genres/6/name  \n",
       "0                  NaN               NaN          NaN           NaN  \n",
       "1                  NaN               NaN          NaN           NaN  \n",
       "2                  NaN               NaN          NaN           NaN  \n",
       "3                  NaN               NaN          NaN           NaN  \n",
       "4                  NaN               NaN          NaN           NaN  \n",
       "...                ...               ...          ...           ...  \n",
       "14201              NaN               NaN          NaN           NaN  \n",
       "14202              NaN               NaN          NaN           NaN  \n",
       "14203              NaN               NaN          NaN           NaN  \n",
       "14204              NaN               NaN          NaN           NaN  \n",
       "14205              NaN               NaN          NaN           NaN  \n",
       "\n",
       "[14206 rows x 128 columns]"
      ]
     },
     "metadata": {},
     "output_type": "display_data"
    }
   ],
   "source": [
    "display(df)"
   ]
  },
  {
   "cell_type": "code",
   "execution_count": 20,
   "id": "a95d640c",
   "metadata": {},
   "outputs": [
    {
     "name": "stdout",
     "output_type": "stream",
     "text": [
      "<class 'pandas.core.frame.DataFrame'>\n",
      "RangeIndex: 14206 entries, 0 to 14205\n",
      "Columns: 128 entries, Unnamed: 0 to genres/6/name\n",
      "dtypes: float64(48), int64(22), object(58)\n",
      "memory usage: 13.9+ MB\n"
     ]
    }
   ],
   "source": [
    "df.info()"
   ]
  },
  {
   "cell_type": "code",
   "execution_count": 21,
   "id": "1b1dc502",
   "metadata": {},
   "outputs": [
    {
     "name": "stdout",
     "output_type": "stream",
     "text": [
      "['Unnamed: 0', 'user_id', 'game_name', 'hours', 'purchase', 'play', 'id', 'category', 'collection/id', 'collection/name', 'franchises/0/id', 'franchises/0/name', 'game_modes/0/id', 'game_modes/0/name', 'genres/0/id', 'genres/0/name', 'keywords/0/id', 'keywords/0/name', 'keywords/1/id', 'keywords/1/name', 'keywords/2/id', 'keywords/2/name', 'keywords/3/id', 'keywords/3/name', 'keywords/4/id', 'keywords/4/name', 'keywords/5/id', 'keywords/5/name', 'keywords/6/id', 'keywords/6/name', 'keywords/7/id', 'keywords/7/name', 'keywords/8/id', 'keywords/8/name', 'keywords/9/id', 'keywords/9/name', 'keywords/10/id', 'keywords/10/name', 'keywords/11/id', 'keywords/11/name', 'keywords/12/id', 'keywords/12/name', 'keywords/13/id', 'keywords/13/name', 'keywords/14/id', 'keywords/14/name', 'keywords/15/id', 'keywords/15/name', 'keywords/16/id', 'keywords/16/name', 'keywords/17/id', 'keywords/17/name', 'keywords/18/id', 'keywords/18/name', 'keywords/19/id', 'keywords/19/name', 'keywords/20/id', 'keywords/20/name', 'platforms/0/id', 'platforms/0/name', 'rating', 'rating_count', 'similar_games/0/id', 'similar_games/0/name', 'similar_games/1/id', 'similar_games/1/name', 'similar_games/2/id', 'similar_games/2/name', 'similar_games/3/id', 'similar_games/3/name', 'similar_games/4/id', 'similar_games/4/name', 'similar_games/5/id', 'similar_games/5/name', 'similar_games/6/id', 'similar_games/6/name', 'similar_games/7/id', 'similar_games/7/name', 'similar_games/8/id', 'similar_games/8/name', 'similar_games/9/id', 'similar_games/9/name', 'themes/0/id', 'themes/0/name', 'franchises/1/id', 'franchises/1/name', 'platforms/1/id', 'platforms/1/name', 'platforms/2/id', 'platforms/2/name', 'platforms/3/id', 'platforms/3/name', 'platforms/4/id', 'platforms/4/name', 'platforms/5/id', 'platforms/5/name', 'themes/1/id', 'themes/1/name', 'genres/1/id', 'genres/1/name', 'game_modes/1/id', 'game_modes/1/name', 'game_modes/2/id', 'game_modes/2/name', 'genres/2/id', 'genres/2/name', 'genres/3/id', 'genres/3/name', 'genres/4/id', 'genres/4/name', 'themes/2/id', 'themes/2/name', 'themes/3/id', 'themes/3/name', 'game_modes/3/id', 'game_modes/3/name', 'themes/4/id', 'themes/4/name', 'genres/5/id', 'genres/5/name', 'themes/5/id', 'themes/5/name', 'themes/6/id', 'themes/6/name', 'game_modes/4/id', 'game_modes/4/name', 'genres/6/id', 'genres/6/name']\n"
     ]
    }
   ],
   "source": [
    "columns=df.columns.tolist()\n",
    "print(columns)"
   ]
  },
  {
   "cell_type": "code",
   "execution_count": 22,
   "id": "8cd50582",
   "metadata": {},
   "outputs": [
    {
     "name": "stdout",
     "output_type": "stream",
     "text": [
      "keywords/2/name\n"
     ]
    }
   ],
   "source": [
    "i=2\n",
    "\n",
    "print('keywords/'+str(i)+'/name')"
   ]
  },
  {
   "cell_type": "code",
   "execution_count": 23,
   "id": "1d292b18",
   "metadata": {},
   "outputs": [],
   "source": [
    "# for j in range(0, len(columns)):\n",
    "#     if j>21:\n",
    "#         print('keywords/'+str(j)+'/name')\n",
    "#         df = df.drop(['keywords/'+str(j)+'/name'], axis=1)\n",
    "#         df = df.drop(['keywords/'+str(j)+'/id'], axis=1)"
   ]
  },
  {
   "cell_type": "code",
   "execution_count": 24,
   "id": "29520ad7",
   "metadata": {},
   "outputs": [],
   "source": [
    "# for j in range(21, len(columns)):\n",
    "#     print('keywords/'+str(j)+'/name')\n",
    "#     df = df.drop(['keywords/'+str(j)+'/name'], axis=1)\n",
    "#     df = df.drop(['keywords/'+str(j)+'/id'], axis=1)"
   ]
  },
  {
   "cell_type": "code",
   "execution_count": 25,
   "id": "964bed35",
   "metadata": {
    "scrolled": true
   },
   "outputs": [],
   "source": [
    "# for j in range(2, len(columns)):\n",
    "#     print('keywords/'+str(j)+'/name')\n",
    "#     df = df.drop(['franchises/'+str(j)+'/name'], axis=1)\n",
    "#     df = df.drop(['franchises/'+str(j)+'/id'], axis=1)"
   ]
  },
  {
   "cell_type": "code",
   "execution_count": 26,
   "id": "b3bc4ba7",
   "metadata": {},
   "outputs": [],
   "source": [
    "# for j in range(6, len(columns)):\n",
    "#     print('keywords/'+str(j)+'/name')\n",
    "#     df = df.drop(['platforms/'+str(j)+'/name'], axis=1)\n",
    "#     df = df.drop(['platforms/'+str(j)+'/id'], axis=1)"
   ]
  },
  {
   "cell_type": "code",
   "execution_count": 27,
   "id": "67e3857c",
   "metadata": {},
   "outputs": [],
   "source": [
    "dfColumns=df.columns"
   ]
  },
  {
   "cell_type": "markdown",
   "id": "9e81a56a",
   "metadata": {},
   "source": [
    "# Analysing feature values"
   ]
  },
  {
   "cell_type": "code",
   "execution_count": 28,
   "id": "f53106f9",
   "metadata": {},
   "outputs": [
    {
     "data": {
      "image/png": "[encoded data removed]",
      "text/plain": [
       "<Figure size 2000x500 with 1 Axes>"
      ]
     },
     "metadata": {},
     "output_type": "display_data"
    }
   ],
   "source": [
    "df.groupby(\"purchase\").count()[\"game_name\"].sort_values(ascending=False).plot(\n",
    "    kind=\"bar\", color=\"green\", title=\"Y by user\", figsize=(20,5)).grid(axis='y')"
   ]
  },
  {
   "cell_type": "code",
   "execution_count": 29,
   "id": "dea1e849",
   "metadata": {},
   "outputs": [],
   "source": [
    "#sns.scatterplot(x=\"hours\",y=\"game_name\", data=df, palette=\"Dark2\", s=80)"
   ]
  },
  {
   "cell_type": "markdown",
   "id": "fd2f034d",
   "metadata": {},
   "source": [
    "# Analysing data"
   ]
  },
  {
   "cell_type": "code",
   "execution_count": null,
   "id": "055640c4",
   "metadata": {},
   "outputs": [],
   "source": [
    "sns.pairplot(df)"
   ]
  },
  {
   "cell_type": "code",
   "execution_count": null,
   "id": "34a60ff4",
   "metadata": {},
   "outputs": [],
   "source": [
    "df.describe()"
   ]
  },
  {
   "cell_type": "code",
   "execution_count": null,
   "id": "66c0887c",
   "metadata": {},
   "outputs": [],
   "source": [
    "for col in df:\n",
    "    print(df[col].unique())"
   ]
  },
  {
   "cell_type": "code",
   "execution_count": null,
   "id": "fe1d8377",
   "metadata": {},
   "outputs": [],
   "source": [
    "sns.kdeplot(df['hours'])"
   ]
  },
  {
   "cell_type": "code",
   "execution_count": null,
   "id": "b954319e",
   "metadata": {},
   "outputs": [],
   "source": [
    "df[\"hours\"].value_counts()"
   ]
  }
 ],
 "metadata": {
  "kernelspec": {
   "display_name": "Python 3 (ipykernel)",
   "language": "python",
   "name": "python3"
  },
  "language_info": {
   "codemirror_mode": {
    "name": "ipython",
    "version": 3
   },
   "file_extension": ".py",
   "mimetype": "text/x-python",
   "name": "python",
   "nbconvert_exporter": "python",
   "pygments_lexer": "ipython3",
   "version": "3.10.8"
  }
 },
 "nbformat": 4,
 "nbformat_minor": 5
}
