{
 "cells": [
  {
   "cell_type": "code",
<<<<<<< Updated upstream
   "execution_count": 70,
=======
   "execution_count": 1,
   "id": "3cb62ccf",
   "metadata": {},
   "outputs": [
    {
     "name": "stdout",
     "output_type": "stream",
     "text": [
      "Requirement already satisfied: scikit-learn in c:\\users\\boudy\\anaconda3\\lib\\site-packages (1.0.2)\n",
      "Requirement already satisfied: numpy>=1.14.6 in c:\\users\\boudy\\anaconda3\\lib\\site-packages (from scikit-learn) (1.21.5)\n",
      "Requirement already satisfied: threadpoolctl>=2.0.0 in c:\\users\\boudy\\anaconda3\\lib\\site-packages (from scikit-learn) (2.2.0)\n",
      "Requirement already satisfied: joblib>=0.11 in c:\\users\\boudy\\anaconda3\\lib\\site-packages (from scikit-learn) (1.1.0)\n",
      "Requirement already satisfied: scipy>=1.1.0 in c:\\users\\boudy\\anaconda3\\lib\\site-packages (from scikit-learn) (1.9.1)\n"
     ]
    }
   ],
   "source": [
    "!pip install scikit-learn"
   ]
  },
  {
   "cell_type": "code",
   "execution_count": 2,
   "id": "7f4b8179",
   "metadata": {},
   "outputs": [
    {
     "name": "stdout",
     "output_type": "stream",
     "text": [
      "Requirement already satisfied: matplotlib in c:\\users\\boudy\\anaconda3\\lib\\site-packages (3.5.2)\n",
      "Requirement already satisfied: pillow>=6.2.0 in c:\\users\\boudy\\anaconda3\\lib\\site-packages (from matplotlib) (9.2.0)\n",
      "Requirement already satisfied: numpy>=1.17 in c:\\users\\boudy\\anaconda3\\lib\\site-packages (from matplotlib) (1.21.5)\n",
      "Requirement already satisfied: cycler>=0.10 in c:\\users\\boudy\\anaconda3\\lib\\site-packages (from matplotlib) (0.11.0)\n",
      "Requirement already satisfied: packaging>=20.0 in c:\\users\\boudy\\anaconda3\\lib\\site-packages (from matplotlib) (21.3)\n",
      "Requirement already satisfied: python-dateutil>=2.7 in c:\\users\\boudy\\anaconda3\\lib\\site-packages (from matplotlib) (2.8.2)\n",
      "Requirement already satisfied: kiwisolver>=1.0.1 in c:\\users\\boudy\\anaconda3\\lib\\site-packages (from matplotlib) (1.4.2)\n",
      "Requirement already satisfied: fonttools>=4.22.0 in c:\\users\\boudy\\anaconda3\\lib\\site-packages (from matplotlib) (4.25.0)\n",
      "Requirement already satisfied: pyparsing>=2.2.1 in c:\\users\\boudy\\anaconda3\\lib\\site-packages (from matplotlib) (3.0.9)\n",
      "Requirement already satisfied: six>=1.5 in c:\\users\\boudy\\anaconda3\\lib\\site-packages (from python-dateutil>=2.7->matplotlib) (1.16.0)\n"
     ]
    }
   ],
   "source": [
    "!pip install matplotlib"
   ]
  },
  {
   "cell_type": "code",
   "execution_count": 3,
   "id": "e1f0bc78",
   "metadata": {},
   "outputs": [
    {
     "name": "stdout",
     "output_type": "stream",
     "text": [
      "Requirement already satisfied: seaborn in c:\\users\\boudy\\anaconda3\\lib\\site-packages (0.11.2)\n",
      "Requirement already satisfied: matplotlib>=2.2 in c:\\users\\boudy\\anaconda3\\lib\\site-packages (from seaborn) (3.5.2)\n",
      "Requirement already satisfied: scipy>=1.0 in c:\\users\\boudy\\anaconda3\\lib\\site-packages (from seaborn) (1.9.1)\n",
      "Requirement already satisfied: pandas>=0.23 in c:\\users\\boudy\\anaconda3\\lib\\site-packages (from seaborn) (1.4.4)\n",
      "Requirement already satisfied: numpy>=1.15 in c:\\users\\boudy\\anaconda3\\lib\\site-packages (from seaborn) (1.21.5)\n",
      "Requirement already satisfied: pyparsing>=2.2.1 in c:\\users\\boudy\\anaconda3\\lib\\site-packages (from matplotlib>=2.2->seaborn) (3.0.9)\n",
      "Requirement already satisfied: python-dateutil>=2.7 in c:\\users\\boudy\\anaconda3\\lib\\site-packages (from matplotlib>=2.2->seaborn) (2.8.2)\n",
      "Requirement already satisfied: fonttools>=4.22.0 in c:\\users\\boudy\\anaconda3\\lib\\site-packages (from matplotlib>=2.2->seaborn) (4.25.0)\n",
      "Requirement already satisfied: packaging>=20.0 in c:\\users\\boudy\\anaconda3\\lib\\site-packages (from matplotlib>=2.2->seaborn) (21.3)\n",
      "Requirement already satisfied: pillow>=6.2.0 in c:\\users\\boudy\\anaconda3\\lib\\site-packages (from matplotlib>=2.2->seaborn) (9.2.0)\n",
      "Requirement already satisfied: kiwisolver>=1.0.1 in c:\\users\\boudy\\anaconda3\\lib\\site-packages (from matplotlib>=2.2->seaborn) (1.4.2)\n",
      "Requirement already satisfied: cycler>=0.10 in c:\\users\\boudy\\anaconda3\\lib\\site-packages (from matplotlib>=2.2->seaborn) (0.11.0)\n",
      "Requirement already satisfied: pytz>=2020.1 in c:\\users\\boudy\\anaconda3\\lib\\site-packages (from pandas>=0.23->seaborn) (2022.1)\n",
      "Requirement already satisfied: six>=1.5 in c:\\users\\boudy\\anaconda3\\lib\\site-packages (from python-dateutil>=2.7->matplotlib>=2.2->seaborn) (1.16.0)\n"
     ]
    }
   ],
   "source": [
    "!pip install seaborn"
   ]
  },
  {
   "cell_type": "code",
   "execution_count": 4,
>>>>>>> Stashed changes
   "id": "e5764cf0",
   "metadata": {},
   "outputs": [],
   "source": [
    "import pandas as pd\n",
<<<<<<< Updated upstream
    "import numpy as np"
=======
    "import numpy as np\n",
    "#import tensorflow as tf\n",
    "#import sklearn"
>>>>>>> Stashed changes
   ]
  },
  {
   "cell_type": "code",
<<<<<<< Updated upstream
   "execution_count": 71,
   "id": "a0d3bd65",
   "metadata": {},
   "outputs": [],
   "source": [
    "import json"
   ]
=======
   "execution_count": null,
   "id": "d6ed2312",
   "metadata": {},
   "outputs": [],
   "source": []
>>>>>>> Stashed changes
  },
  {
   "cell_type": "code",
   "execution_count": 5,
<<<<<<< Updated upstream
=======
   "id": "dd518ace",
   "metadata": {},
   "outputs": [],
   "source": [
    "import re\n",
    "from datetime import datetime\n",
    "## for plotting\n",
    "import matplotlib.pyplot as plt\n",
    "import seaborn as sns\n",
    "## for machine learning\n",
    "#from sklearn import metrics, preprocessing\n",
    "## for deep learning\n",
    "#from tensorflow.keras import models, layers, utils  #(2.6.0)"
   ]
  },
  {
   "cell_type": "code",
   "execution_count": 6,
>>>>>>> Stashed changes
   "id": "e43f990f",
   "metadata": {},
   "outputs": [],
   "source": [
    "# data viz\n",
    "import matplotlib.pyplot as plt\n",
    "from matplotlib import rcParams\n",
    "import seaborn as sns\n"
   ]
  },
  {
   "cell_type": "code",
<<<<<<< Updated upstream
   "execution_count": 11,
=======
   "execution_count": 7,
>>>>>>> Stashed changes
   "id": "8eb6a232",
   "metadata": {},
   "outputs": [],
   "source": [
    "# apply some cool styling\n",
    "plt.style.use(\"ggplot\")\n",
    "rcParams['figure.figsize'] = (12,  6)\n"
   ]
  },
  {
   "cell_type": "markdown",
   "id": "b219afb5",
   "metadata": {},
   "source": [
    "# Users Dataset"
   ]
  },
  {
   "cell_type": "code",
<<<<<<< Updated upstream
   "execution_count": 3,
   "id": "a6f503ef",
   "metadata": {},
   "outputs": [],
=======
   "execution_count": 8,
   "id": "a6f503ef",
   "metadata": {},
   "outputs": [
    {
     "ename": "FileNotFoundError",
     "evalue": "[Errno 2] No such file or directory: 'raw_data\\\\steam_users_purchase_play.csv'",
     "output_type": "error",
     "traceback": [
      "\u001b[1;31m---------------------------------------------------------------------------\u001b[0m",
      "\u001b[1;31mFileNotFoundError\u001b[0m                         Traceback (most recent call last)",
      "\u001b[1;32m~\\AppData\\Local\\Temp\\ipykernel_23288\\3617577867.py\u001b[0m in \u001b[0;36m<module>\u001b[1;34m\u001b[0m\n\u001b[1;32m----> 1\u001b[1;33m \u001b[0muserDataset\u001b[0m \u001b[1;33m=\u001b[0m \u001b[0mpd\u001b[0m\u001b[1;33m.\u001b[0m\u001b[0mread_csv\u001b[0m\u001b[1;33m(\u001b[0m\u001b[1;34m'raw_data\\steam_users_purchase_play.csv'\u001b[0m\u001b[1;33m)\u001b[0m\u001b[1;33m\u001b[0m\u001b[1;33m\u001b[0m\u001b[0m\n\u001b[0m",
      "\u001b[1;32m~\\anaconda3\\lib\\site-packages\\pandas\\util\\_decorators.py\u001b[0m in \u001b[0;36mwrapper\u001b[1;34m(*args, **kwargs)\u001b[0m\n\u001b[0;32m    309\u001b[0m                     \u001b[0mstacklevel\u001b[0m\u001b[1;33m=\u001b[0m\u001b[0mstacklevel\u001b[0m\u001b[1;33m,\u001b[0m\u001b[1;33m\u001b[0m\u001b[1;33m\u001b[0m\u001b[0m\n\u001b[0;32m    310\u001b[0m                 )\n\u001b[1;32m--> 311\u001b[1;33m             \u001b[1;32mreturn\u001b[0m \u001b[0mfunc\u001b[0m\u001b[1;33m(\u001b[0m\u001b[1;33m*\u001b[0m\u001b[0margs\u001b[0m\u001b[1;33m,\u001b[0m \u001b[1;33m**\u001b[0m\u001b[0mkwargs\u001b[0m\u001b[1;33m)\u001b[0m\u001b[1;33m\u001b[0m\u001b[1;33m\u001b[0m\u001b[0m\n\u001b[0m\u001b[0;32m    312\u001b[0m \u001b[1;33m\u001b[0m\u001b[0m\n\u001b[0;32m    313\u001b[0m         \u001b[1;32mreturn\u001b[0m \u001b[0mwrapper\u001b[0m\u001b[1;33m\u001b[0m\u001b[1;33m\u001b[0m\u001b[0m\n",
      "\u001b[1;32m~\\anaconda3\\lib\\site-packages\\pandas\\io\\parsers\\readers.py\u001b[0m in \u001b[0;36mread_csv\u001b[1;34m(filepath_or_buffer, sep, delimiter, header, names, index_col, usecols, squeeze, prefix, mangle_dupe_cols, dtype, engine, converters, true_values, false_values, skipinitialspace, skiprows, skipfooter, nrows, na_values, keep_default_na, na_filter, verbose, skip_blank_lines, parse_dates, infer_datetime_format, keep_date_col, date_parser, dayfirst, cache_dates, iterator, chunksize, compression, thousands, decimal, lineterminator, quotechar, quoting, doublequote, escapechar, comment, encoding, encoding_errors, dialect, error_bad_lines, warn_bad_lines, on_bad_lines, delim_whitespace, low_memory, memory_map, float_precision, storage_options)\u001b[0m\n\u001b[0;32m    676\u001b[0m     \u001b[0mkwds\u001b[0m\u001b[1;33m.\u001b[0m\u001b[0mupdate\u001b[0m\u001b[1;33m(\u001b[0m\u001b[0mkwds_defaults\u001b[0m\u001b[1;33m)\u001b[0m\u001b[1;33m\u001b[0m\u001b[1;33m\u001b[0m\u001b[0m\n\u001b[0;32m    677\u001b[0m \u001b[1;33m\u001b[0m\u001b[0m\n\u001b[1;32m--> 678\u001b[1;33m     \u001b[1;32mreturn\u001b[0m \u001b[0m_read\u001b[0m\u001b[1;33m(\u001b[0m\u001b[0mfilepath_or_buffer\u001b[0m\u001b[1;33m,\u001b[0m \u001b[0mkwds\u001b[0m\u001b[1;33m)\u001b[0m\u001b[1;33m\u001b[0m\u001b[1;33m\u001b[0m\u001b[0m\n\u001b[0m\u001b[0;32m    679\u001b[0m \u001b[1;33m\u001b[0m\u001b[0m\n\u001b[0;32m    680\u001b[0m \u001b[1;33m\u001b[0m\u001b[0m\n",
      "\u001b[1;32m~\\anaconda3\\lib\\site-packages\\pandas\\io\\parsers\\readers.py\u001b[0m in \u001b[0;36m_read\u001b[1;34m(filepath_or_buffer, kwds)\u001b[0m\n\u001b[0;32m    573\u001b[0m \u001b[1;33m\u001b[0m\u001b[0m\n\u001b[0;32m    574\u001b[0m     \u001b[1;31m# Create the parser.\u001b[0m\u001b[1;33m\u001b[0m\u001b[1;33m\u001b[0m\u001b[0m\n\u001b[1;32m--> 575\u001b[1;33m     \u001b[0mparser\u001b[0m \u001b[1;33m=\u001b[0m \u001b[0mTextFileReader\u001b[0m\u001b[1;33m(\u001b[0m\u001b[0mfilepath_or_buffer\u001b[0m\u001b[1;33m,\u001b[0m \u001b[1;33m**\u001b[0m\u001b[0mkwds\u001b[0m\u001b[1;33m)\u001b[0m\u001b[1;33m\u001b[0m\u001b[1;33m\u001b[0m\u001b[0m\n\u001b[0m\u001b[0;32m    576\u001b[0m \u001b[1;33m\u001b[0m\u001b[0m\n\u001b[0;32m    577\u001b[0m     \u001b[1;32mif\u001b[0m \u001b[0mchunksize\u001b[0m \u001b[1;32mor\u001b[0m \u001b[0miterator\u001b[0m\u001b[1;33m:\u001b[0m\u001b[1;33m\u001b[0m\u001b[1;33m\u001b[0m\u001b[0m\n",
      "\u001b[1;32m~\\anaconda3\\lib\\site-packages\\pandas\\io\\parsers\\readers.py\u001b[0m in \u001b[0;36m__init__\u001b[1;34m(self, f, engine, **kwds)\u001b[0m\n\u001b[0;32m    930\u001b[0m \u001b[1;33m\u001b[0m\u001b[0m\n\u001b[0;32m    931\u001b[0m         \u001b[0mself\u001b[0m\u001b[1;33m.\u001b[0m\u001b[0mhandles\u001b[0m\u001b[1;33m:\u001b[0m \u001b[0mIOHandles\u001b[0m \u001b[1;33m|\u001b[0m \u001b[1;32mNone\u001b[0m \u001b[1;33m=\u001b[0m \u001b[1;32mNone\u001b[0m\u001b[1;33m\u001b[0m\u001b[1;33m\u001b[0m\u001b[0m\n\u001b[1;32m--> 932\u001b[1;33m         \u001b[0mself\u001b[0m\u001b[1;33m.\u001b[0m\u001b[0m_engine\u001b[0m \u001b[1;33m=\u001b[0m \u001b[0mself\u001b[0m\u001b[1;33m.\u001b[0m\u001b[0m_make_engine\u001b[0m\u001b[1;33m(\u001b[0m\u001b[0mf\u001b[0m\u001b[1;33m,\u001b[0m \u001b[0mself\u001b[0m\u001b[1;33m.\u001b[0m\u001b[0mengine\u001b[0m\u001b[1;33m)\u001b[0m\u001b[1;33m\u001b[0m\u001b[1;33m\u001b[0m\u001b[0m\n\u001b[0m\u001b[0;32m    933\u001b[0m \u001b[1;33m\u001b[0m\u001b[0m\n\u001b[0;32m    934\u001b[0m     \u001b[1;32mdef\u001b[0m \u001b[0mclose\u001b[0m\u001b[1;33m(\u001b[0m\u001b[0mself\u001b[0m\u001b[1;33m)\u001b[0m\u001b[1;33m:\u001b[0m\u001b[1;33m\u001b[0m\u001b[1;33m\u001b[0m\u001b[0m\n",
      "\u001b[1;32m~\\anaconda3\\lib\\site-packages\\pandas\\io\\parsers\\readers.py\u001b[0m in \u001b[0;36m_make_engine\u001b[1;34m(self, f, engine)\u001b[0m\n\u001b[0;32m   1214\u001b[0m             \u001b[1;31m# \"Union[str, PathLike[str], ReadCsvBuffer[bytes], ReadCsvBuffer[str]]\"\u001b[0m\u001b[1;33m\u001b[0m\u001b[1;33m\u001b[0m\u001b[0m\n\u001b[0;32m   1215\u001b[0m             \u001b[1;31m# , \"str\", \"bool\", \"Any\", \"Any\", \"Any\", \"Any\", \"Any\"\u001b[0m\u001b[1;33m\u001b[0m\u001b[1;33m\u001b[0m\u001b[0m\n\u001b[1;32m-> 1216\u001b[1;33m             self.handles = get_handle(  # type: ignore[call-overload]\n\u001b[0m\u001b[0;32m   1217\u001b[0m                 \u001b[0mf\u001b[0m\u001b[1;33m,\u001b[0m\u001b[1;33m\u001b[0m\u001b[1;33m\u001b[0m\u001b[0m\n\u001b[0;32m   1218\u001b[0m                 \u001b[0mmode\u001b[0m\u001b[1;33m,\u001b[0m\u001b[1;33m\u001b[0m\u001b[1;33m\u001b[0m\u001b[0m\n",
      "\u001b[1;32m~\\anaconda3\\lib\\site-packages\\pandas\\io\\common.py\u001b[0m in \u001b[0;36mget_handle\u001b[1;34m(path_or_buf, mode, encoding, compression, memory_map, is_text, errors, storage_options)\u001b[0m\n\u001b[0;32m    784\u001b[0m         \u001b[1;32mif\u001b[0m \u001b[0mioargs\u001b[0m\u001b[1;33m.\u001b[0m\u001b[0mencoding\u001b[0m \u001b[1;32mand\u001b[0m \u001b[1;34m\"b\"\u001b[0m \u001b[1;32mnot\u001b[0m \u001b[1;32min\u001b[0m \u001b[0mioargs\u001b[0m\u001b[1;33m.\u001b[0m\u001b[0mmode\u001b[0m\u001b[1;33m:\u001b[0m\u001b[1;33m\u001b[0m\u001b[1;33m\u001b[0m\u001b[0m\n\u001b[0;32m    785\u001b[0m             \u001b[1;31m# Encoding\u001b[0m\u001b[1;33m\u001b[0m\u001b[1;33m\u001b[0m\u001b[0m\n\u001b[1;32m--> 786\u001b[1;33m             handle = open(\n\u001b[0m\u001b[0;32m    787\u001b[0m                 \u001b[0mhandle\u001b[0m\u001b[1;33m,\u001b[0m\u001b[1;33m\u001b[0m\u001b[1;33m\u001b[0m\u001b[0m\n\u001b[0;32m    788\u001b[0m                 \u001b[0mioargs\u001b[0m\u001b[1;33m.\u001b[0m\u001b[0mmode\u001b[0m\u001b[1;33m,\u001b[0m\u001b[1;33m\u001b[0m\u001b[1;33m\u001b[0m\u001b[0m\n",
      "\u001b[1;31mFileNotFoundError\u001b[0m: [Errno 2] No such file or directory: 'raw_data\\\\steam_users_purchase_play.csv'"
     ]
    }
   ],
>>>>>>> Stashed changes
   "source": [
    "userDataset = pd.read_csv('raw_data\\steam_users_purchase_play.csv')"
   ]
  },
  {
   "cell_type": "code",
   "execution_count": 7,
   "id": "a3c44183",
   "metadata": {},
   "outputs": [],
   "source": [
    "dfUsers = pd.DataFrame(userDataset)"
   ]
  },
  {
   "cell_type": "code",
   "execution_count": 8,
   "id": "e4d5a02f",
   "metadata": {},
<<<<<<< Updated upstream
   "outputs": [
    {
     "data": {
      "text/plain": [
       "['user_id', 'game_name', 'hours', 'purchase', 'play']"
      ]
     },
     "execution_count": 8,
     "metadata": {},
     "output_type": "execute_result"
    }
   ],
=======
   "outputs": [],
   "source": [
    "list(dfUsers.columns)"
   ]
  },
  {
   "cell_type": "code",
   "execution_count": null,
   "id": "2333b3e4",
   "metadata": {},
   "outputs": [],
   "source": [
    "display(dfUsers)"
   ]
  },
  {
   "cell_type": "markdown",
   "id": "268a4d00",
   "metadata": {},
   "source": [
    "# Games Dataset"
   ]
  },
  {
   "cell_type": "code",
   "execution_count": null,
   "id": "d8fd5ede",
   "metadata": {},
   "outputs": [],
   "source": [
    "# games2005 = pd.read_csv('raw_data\\year 2005-2008.csv')\n",
    "# games2008 = pd.read_csv('raw_data\\year 2008-2011.csv')\n",
    "# games2011 = pd.read_csv('raw_data\\year 2011-2014.csv')\n",
    "# games2014 = pd.read_csv('raw_data\\year 2014-2017.csv')\n",
    "# games2017 = pd.read_csv('raw_data\\year 2017-2022.csv')"
   ]
  },
  {
   "cell_type": "code",
   "execution_count": null,
   "id": "97565998",
   "metadata": {},
   "outputs": [],
   "source": [
    "# df2005 = pd.DataFrame(games2005)\n",
    "# df2008 = pd.DataFrame(games2008)\n",
    "# df2011 = pd.DataFrame(games2011)\n",
    "# df2014 = pd.DataFrame(games2014)\n",
    "# df2017 = pd.DataFrame(games2017)"
   ]
  },
  {
   "cell_type": "code",
   "execution_count": null,
   "id": "1603055e",
   "metadata": {},
   "outputs": [],
   "source": [
    "# dfGames = pd.concat([df2005, df2008,df2011,df2014,df2017], axis=0)"
   ]
  },
  {
   "cell_type": "code",
   "execution_count": null,
   "id": "8727714a",
   "metadata": {},
   "outputs": [],
   "source": [
    "# dfGames.info()"
   ]
  },
  {
   "cell_type": "code",
   "execution_count": null,
   "id": "fd8867f5",
   "metadata": {},
   "outputs": [],
   "source": [
    "#  dfGames.rename(columns={'name': 'game_name'},\n",
    "#           inplace=True, errors='raise')"
   ]
  },
  {
   "cell_type": "code",
   "execution_count": null,
   "id": "c79067ef",
   "metadata": {},
   "outputs": [],
   "source": [
    "# display(dfGames)"
   ]
  },
  {
   "cell_type": "markdown",
   "id": "8b323ca1",
   "metadata": {},
   "source": [
    "# Merged dataset"
   ]
  },
  {
   "cell_type": "code",
   "execution_count": null,
   "id": "7d0a5926",
   "metadata": {},
   "outputs": [],
   "source": [
    "#df=pd.merge(dfUsers,dfGames)"
   ]
  },
  {
   "cell_type": "code",
   "execution_count": null,
   "id": "2761849d",
   "metadata": {},
   "outputs": [],
>>>>>>> Stashed changes
   "source": [
    "list(dfUsers.columns)"
   ]
  },
  {
   "cell_type": "code",
<<<<<<< Updated upstream
   "execution_count": 10,
   "id": "2333b3e4",
   "metadata": {},
   "outputs": [
    {
     "data": {
      "text/html": [
       "<div>\n",
       "<style scoped>\n",
       "    .dataframe tbody tr th:only-of-type {\n",
       "        vertical-align: middle;\n",
       "    }\n",
       "\n",
       "    .dataframe tbody tr th {\n",
       "        vertical-align: top;\n",
       "    }\n",
       "\n",
       "    .dataframe thead th {\n",
       "        text-align: right;\n",
       "    }\n",
       "</style>\n",
       "<table border=\"1\" class=\"dataframe\">\n",
       "  <thead>\n",
       "    <tr style=\"text-align: right;\">\n",
       "      <th></th>\n",
       "      <th>user_id</th>\n",
       "      <th>game_name</th>\n",
       "      <th>hours</th>\n",
       "      <th>purchase</th>\n",
       "      <th>play</th>\n",
       "    </tr>\n",
       "  </thead>\n",
       "  <tbody>\n",
       "    <tr>\n",
       "      <th>0</th>\n",
       "      <td>151603712</td>\n",
       "      <td>The Elder Scrolls V Skyrim</td>\n",
       "      <td>273.0</td>\n",
       "      <td>1</td>\n",
       "      <td>1</td>\n",
       "    </tr>\n",
       "    <tr>\n",
       "      <th>1</th>\n",
       "      <td>151603712</td>\n",
       "      <td>Fallout 4</td>\n",
       "      <td>87.0</td>\n",
       "      <td>1</td>\n",
       "      <td>1</td>\n",
       "    </tr>\n",
       "    <tr>\n",
       "      <th>2</th>\n",
       "      <td>151603712</td>\n",
       "      <td>Spore</td>\n",
       "      <td>14.9</td>\n",
       "      <td>1</td>\n",
       "      <td>1</td>\n",
       "    </tr>\n",
       "    <tr>\n",
       "      <th>3</th>\n",
       "      <td>151603712</td>\n",
       "      <td>Fallout New Vegas</td>\n",
       "      <td>12.1</td>\n",
       "      <td>1</td>\n",
       "      <td>1</td>\n",
       "    </tr>\n",
       "    <tr>\n",
       "      <th>4</th>\n",
       "      <td>151603712</td>\n",
       "      <td>Left 4 Dead 2</td>\n",
       "      <td>8.9</td>\n",
       "      <td>1</td>\n",
       "      <td>1</td>\n",
       "    </tr>\n",
       "    <tr>\n",
       "      <th>...</th>\n",
       "      <td>...</td>\n",
       "      <td>...</td>\n",
       "      <td>...</td>\n",
       "      <td>...</td>\n",
       "      <td>...</td>\n",
       "    </tr>\n",
       "    <tr>\n",
       "      <th>128799</th>\n",
       "      <td>128470551</td>\n",
       "      <td>Fallen Earth</td>\n",
       "      <td>2.4</td>\n",
       "      <td>1</td>\n",
       "      <td>1</td>\n",
       "    </tr>\n",
       "    <tr>\n",
       "      <th>128800</th>\n",
       "      <td>128470551</td>\n",
       "      <td>Magic Duels</td>\n",
       "      <td>2.2</td>\n",
       "      <td>1</td>\n",
       "      <td>1</td>\n",
       "    </tr>\n",
       "    <tr>\n",
       "      <th>128801</th>\n",
       "      <td>128470551</td>\n",
       "      <td>Titan Souls</td>\n",
       "      <td>1.5</td>\n",
       "      <td>1</td>\n",
       "      <td>1</td>\n",
       "    </tr>\n",
       "    <tr>\n",
       "      <th>128802</th>\n",
       "      <td>128470551</td>\n",
       "      <td>Grand Theft Auto Vice City</td>\n",
       "      <td>1.5</td>\n",
       "      <td>1</td>\n",
       "      <td>1</td>\n",
       "    </tr>\n",
       "    <tr>\n",
       "      <th>128803</th>\n",
       "      <td>128470551</td>\n",
       "      <td>RUSH</td>\n",
       "      <td>1.4</td>\n",
       "      <td>1</td>\n",
       "      <td>1</td>\n",
       "    </tr>\n",
       "  </tbody>\n",
       "</table>\n",
       "<p>128804 rows × 5 columns</p>\n",
       "</div>"
      ],
      "text/plain": [
       "          user_id                   game_name  hours  purchase  play\n",
       "0       151603712  The Elder Scrolls V Skyrim  273.0         1     1\n",
       "1       151603712                   Fallout 4   87.0         1     1\n",
       "2       151603712                       Spore   14.9         1     1\n",
       "3       151603712           Fallout New Vegas   12.1         1     1\n",
       "4       151603712               Left 4 Dead 2    8.9         1     1\n",
       "...           ...                         ...    ...       ...   ...\n",
       "128799  128470551                Fallen Earth    2.4         1     1\n",
       "128800  128470551                 Magic Duels    2.2         1     1\n",
       "128801  128470551                 Titan Souls    1.5         1     1\n",
       "128802  128470551  Grand Theft Auto Vice City    1.5         1     1\n",
       "128803  128470551                        RUSH    1.4         1     1\n",
       "\n",
       "[128804 rows x 5 columns]"
      ]
     },
     "metadata": {},
     "output_type": "display_data"
    }
   ],
=======
   "execution_count": null,
   "id": "3b750d1b",
   "metadata": {},
   "outputs": [],
>>>>>>> Stashed changes
   "source": [
    "display(dfUsers)"
   ]
  },
  {
<<<<<<< Updated upstream
   "cell_type": "markdown",
   "id": "268a4d00",
   "metadata": {},
=======
   "cell_type": "code",
   "execution_count": null,
   "id": "a95d640c",
   "metadata": {},
   "outputs": [],
>>>>>>> Stashed changes
   "source": [
    "# Games Dataset"
   ]
  },
  {
   "cell_type": "code",
<<<<<<< Updated upstream
   "execution_count": 72,
   "id": "d8fd5ede",
=======
   "execution_count": null,
   "id": "1b1dc502",
>>>>>>> Stashed changes
   "metadata": {},
   "outputs": [],
   "source": [
    "gamesDataset = pd.read_csv('raw_data\\games.csv')"
   ]
  },
  {
   "cell_type": "code",
<<<<<<< Updated upstream
   "execution_count": 73,
   "id": "243be492",
=======
   "execution_count": null,
   "id": "8cd50582",
>>>>>>> Stashed changes
   "metadata": {},
   "outputs": [],
   "source": [
    "dfGames = pd.DataFrame(gamesDataset)\n"
   ]
  },
  {
   "cell_type": "code",
   "execution_count": 15,
   "id": "fd8867f5",
   "metadata": {},
   "outputs": [],
   "source": [
    "# dfGames.rename(columns={'name': 'game_name'},\n",
    "#           inplace=True, errors='raise')"
   ]
  },
  {
   "cell_type": "code",
   "execution_count": 74,
   "id": "c79067ef",
   "metadata": {},
   "outputs": [
    {
     "data": {
      "text/html": [
       "<div>\n",
       "<style scoped>\n",
       "    .dataframe tbody tr th:only-of-type {\n",
       "        vertical-align: middle;\n",
       "    }\n",
       "\n",
       "    .dataframe tbody tr th {\n",
       "        vertical-align: top;\n",
       "    }\n",
       "\n",
       "    .dataframe thead th {\n",
       "        text-align: right;\n",
       "    }\n",
       "</style>\n",
       "<table border=\"1\" class=\"dataframe\">\n",
       "  <thead>\n",
       "    <tr style=\"text-align: right;\">\n",
       "      <th></th>\n",
       "      <th>id</th>\n",
       "      <th>aggregated_rating</th>\n",
       "      <th>aggregated_rating_count</th>\n",
       "      <th>franchises/0/id</th>\n",
       "      <th>franchises/0/name</th>\n",
       "      <th>genres/0/id</th>\n",
       "      <th>genres/0/name</th>\n",
       "      <th>genres/1/id</th>\n",
       "      <th>genres/1/name</th>\n",
       "      <th>involved_companies/0/id</th>\n",
       "      <th>...</th>\n",
       "      <th>themes/0/id</th>\n",
       "      <th>themes/0/name</th>\n",
       "      <th>themes/1/id</th>\n",
       "      <th>themes/1/name</th>\n",
       "      <th>themes/2/id</th>\n",
       "      <th>themes/2/name</th>\n",
       "      <th>themes/3/id</th>\n",
       "      <th>themes/3/name</th>\n",
       "      <th>total_rating</th>\n",
       "      <th>total_rating_count</th>\n",
       "    </tr>\n",
       "  </thead>\n",
       "  <tbody>\n",
       "    <tr>\n",
       "      <th>0</th>\n",
       "      <td>6036</td>\n",
       "      <td>97.4</td>\n",
       "      <td>11</td>\n",
       "      <td>2675</td>\n",
       "      <td>The Last of Us</td>\n",
       "      <td>5</td>\n",
       "      <td>Shooter</td>\n",
       "      <td>31</td>\n",
       "      <td>Adventure</td>\n",
       "      <td>22266</td>\n",
       "      <td>...</td>\n",
       "      <td>1</td>\n",
       "      <td>Action</td>\n",
       "      <td>19</td>\n",
       "      <td>Horror</td>\n",
       "      <td>21</td>\n",
       "      <td>Survival</td>\n",
       "      <td>23</td>\n",
       "      <td>Stealth</td>\n",
       "      <td>95.878408</td>\n",
       "      <td>1058</td>\n",
       "    </tr>\n",
       "  </tbody>\n",
       "</table>\n",
       "<p>1 rows × 68 columns</p>\n",
       "</div>"
      ],
      "text/plain": [
       "     id  aggregated_rating  aggregated_rating_count  franchises/0/id  \\\n",
       "0  6036               97.4                       11             2675   \n",
       "\n",
       "  franchises/0/name  genres/0/id genres/0/name  genres/1/id genres/1/name  \\\n",
       "0    The Last of Us            5       Shooter           31     Adventure   \n",
       "\n",
       "   involved_companies/0/id  ...  themes/0/id themes/0/name  themes/1/id  \\\n",
       "0                    22266  ...            1        Action           19   \n",
       "\n",
       "   themes/1/name  themes/2/id themes/2/name  themes/3/id  themes/3/name  \\\n",
       "0         Horror           21      Survival           23        Stealth   \n",
       "\n",
       "  total_rating  total_rating_count  \n",
       "0    95.878408                1058  \n",
       "\n",
       "[1 rows x 68 columns]"
      ]
     },
     "metadata": {},
     "output_type": "display_data"
    }
   ],
   "source": [
    "display(dfGames)"
   ]
  },
  {
   "cell_type": "markdown",
   "id": "8b323ca1",
   "metadata": {},
   "source": [
    "# Merged dataset"
   ]
  },
  {
   "cell_type": "code",
   "execution_count": 42,
   "id": "7d0a5926",
   "metadata": {},
   "outputs": [],
   "source": [
    "df=pd.merge(dfUsers,dfGames)"
   ]
  },
  {
   "cell_type": "code",
   "execution_count": 57,
   "id": "dfbaf04b",
   "metadata": {},
   "outputs": [],
   "source": [
    "#df.to_csv('users_games_dataset.csv')"
   ]
  },
  {
   "cell_type": "code",
<<<<<<< Updated upstream
   "execution_count": 68,
   "id": "a95d640c",
=======
   "execution_count": null,
   "id": "67e3857c",
>>>>>>> Stashed changes
   "metadata": {},
   "outputs": [
    {
     "name": "stdout",
     "output_type": "stream",
     "text": [
      "<class 'pandas.core.frame.DataFrame'>\n",
      "Int64Index: 56181 entries, 0 to 56180\n",
      "Data columns (total 24 columns):\n",
      " #   Column                    Non-Null Count  Dtype  \n",
      "---  ------                    --------------  -----  \n",
      " 0   user_id                   56181 non-null  int64  \n",
      " 1   game_name                 56181 non-null  object \n",
      " 2   hours                     56181 non-null  float64\n",
      " 3   purchase                  56181 non-null  int64  \n",
      " 4   play                      56181 non-null  int64  \n",
      " 5   url                       56181 non-null  object \n",
      " 6   types                     56181 non-null  object \n",
      " 7   desc_snippet              55595 non-null  object \n",
      " 8   recent_reviews            44938 non-null  object \n",
      " 9   all_reviews               56003 non-null  object \n",
      " 10  release_date              55185 non-null  object \n",
      " 11  developer                 55985 non-null  object \n",
      " 12  publisher                 55291 non-null  object \n",
      " 13  popular_tags              56079 non-null  object \n",
      " 14  game_details              56101 non-null  object \n",
      " 15  languages                 56181 non-null  object \n",
      " 16  achievements              34910 non-null  float64\n",
      " 17  genre                     55829 non-null  object \n",
      " 18  game_description          56065 non-null  object \n",
      " 19  mature_content            8020 non-null   object \n",
      " 20  minimum_requirements      29614 non-null  object \n",
      " 21  recommended_requirements  29630 non-null  object \n",
      " 22  original_price            55727 non-null  object \n",
      " 23  discount_price            29424 non-null  object \n",
      "dtypes: float64(2), int64(3), object(19)\n",
      "memory usage: 12.7+ MB\n"
     ]
    }
   ],
   "source": [
    "df.info()"
   ]
  },
  {
   "cell_type": "markdown",
   "id": "9e81a56a",
   "metadata": {},
   "source": [
    "# Analysing feature values"
   ]
  },
  {
   "cell_type": "code",
<<<<<<< Updated upstream
   "execution_count": 23,
=======
   "execution_count": null,
>>>>>>> Stashed changes
   "id": "f53106f9",
   "metadata": {},
   "outputs": [],
   "source": [
    "genres_names = df['genre'].unique()"
   ]
  },
  {
   "cell_type": "code",
<<<<<<< Updated upstream
   "execution_count": 24,
   "id": "dea1e849",
   "metadata": {},
   "outputs": [
    {
     "data": {
      "text/plain": [
       "array(['RPG', 'Action', 'Indie,RPG,Simulation,Strategy',\n",
       "       'Action,Adventure,Free to Play,Indie,Massively Multiplayer,RPG',\n",
       "       'Indie,Simulation', 'Action,Free to Play', 'Action,Adventure',\n",
       "       'Indie,RPG,Strategy',\n",
       "       'Action,Free to Play,Indie,Massively Multiplayer,RPG',\n",
       "       'Casual,Free to Play,Indie,Massively Multiplayer,RPG',\n",
       "       'Action,Free to Play,Strategy',\n",
       "       'Action,Free to Play,Indie,Massively Multiplayer,RPG,Simulation',\n",
       "       'Adventure,Strategy',\n",
       "       'Action,Adventure,Indie,RPG,Simulation,Strategy,Early Access',\n",
       "       'Action,Indie', 'Action,Indie,Strategy', 'Action,Strategy',\n",
       "       'Action,Indie,RPG', 'Indie,RPG', 'Simulation,Strategy', 'Strategy',\n",
       "       'Action,RPG', 'Action,Casual,Indie,Strategy',\n",
       "       'Action,Indie,RPG,Strategy', 'Action,Adventure,Indie',\n",
       "       'Action,Adventure,Massively Multiplayer',\n",
       "       'Casual,Indie,Simulation,Strategy', 'Indie,Simulation,Strategy',\n",
       "       'Action,Adventure,Indie,RPG', 'Adventure,Simulation', 'Indie',\n",
       "       'Action,Indie,Sports', 'Action,Indie,Racing', 'Adventure,RPG',\n",
       "       'Adventure,Indie', 'Action,RPG,Simulation',\n",
       "       'Casual,Indie,Simulation', 'Casual,Free to Play,Indie',\n",
       "       'Adventure,Casual,Indie', 'Action,Indie,Simulation',\n",
       "       'Action,Simulation,Strategy', 'Action,Casual,Indie',\n",
       "       'Indie,Casual', 'Action,Indie,Racing,Strategy',\n",
       "       'Strategy,Indie,Casual', 'Casual,Indie', 'Casual,Indie,Strategy',\n",
       "       'Indie,Strategy', 'Racing,Sports',\n",
       "       'Action,Free to Play,Massively Multiplayer,RPG,Early Access',\n",
       "       'Action,Indie,Simulation,Strategy', 'Action,Indie,Early Access',\n",
       "       'Action,RPG,Simulation,Strategy', 'Adventure,Indie,RPG',\n",
       "       'Action,Strategy,Casual',\n",
       "       'Animation & Modeling,Design & Illustration,Education,Software Training,Utilities,Game Development',\n",
       "       'Action,Casual,Racing,Simulation,Sports',\n",
       "       'Action,Adventure,Indie,Massively Multiplayer,RPG',\n",
       "       'Action,Adventure,RPG', 'Action,Adventure,Indie,Simulation',\n",
       "       'Adventure,Casual,Indie,RPG', 'Action,Racing',\n",
       "       'Action,Adventure,Casual,Indie', 'Adventure,Indie,RPG,Simulation',\n",
       "       'Casual,Indie,RPG', 'Action,Indie,Casual',\n",
       "       'Design & Illustration,Web Publishing',\n",
       "       'Adventure,Casual,Strategy', 'Adventure,Indie,RPG,Strategy', nan,\n",
       "       'Action,Adventure,Casual,Free to Play,Indie,Massively Multiplayer,RPG',\n",
       "       'Animation & Modeling,Design & Illustration,Utilities',\n",
       "       'Action,Adventure,Indie,RPG,Simulation,Strategy',\n",
       "       'Adventure,Casual', 'Adventure,Indie,Simulation,Strategy',\n",
       "       'Adventure', 'Adventure,Indie,Simulation',\n",
       "       'Action,Free to Play,Indie,Strategy',\n",
       "       'Action,Adventure,Casual,Free to Play,Indie',\n",
       "       'Free to Play,Massively Multiplayer,RPG',\n",
       "       'Action,Adventure,Free to Play,Massively Multiplayer,RPG',\n",
       "       'Adventure,Casual,Free to Play,Indie',\n",
       "       'Action,Free to Play,Massively Multiplayer,Simulation',\n",
       "       'Free to Play,Massively Multiplayer,Simulation,Sports',\n",
       "       'Action,Free to Play,Indie,Massively Multiplayer',\n",
       "       'Adventure,Free to Play,Massively Multiplayer,RPG',\n",
       "       'Adventure,Casual,Free to Play,Indie,RPG,Simulation,Strategy',\n",
       "       'Action,Casual,Free to Play,Indie,Simulation,Strategy', 'Racing',\n",
       "       'Action,Free to Play,Massively Multiplayer',\n",
       "       'Action,Free to Play,Indie,Massively Multiplayer,Strategy',\n",
       "       'Racing,Simulation,Sports', 'Simulation', 'Adventure,Casual,RPG',\n",
       "       'Action,Racing,Simulation,Sports', 'Casual,Strategy',\n",
       "       'Action,Early Access,Indie', 'Action,Free to Play,Early Access',\n",
       "       'Casual', 'Action,Free to Play,Indie,RPG,Strategy',\n",
       "       'Adventure,Casual,Indie,RPG,Simulation', 'Indie,Racing',\n",
       "       'Adventure,Indie,Strategy', 'Action,Casual,Simulation,Strategy',\n",
       "       'Adventure,Casual,Free to Play,Massively Multiplayer,RPG',\n",
       "       'Free to Play,Indie,Sports,Strategy', 'Action,Free to Play,Indie',\n",
       "       'Adventure,Free to Play,Indie', 'Casual,Free to Play,Strategy',\n",
       "       'Action,Adventure,Casual,Free to Play,Massively Multiplayer,RPG',\n",
       "       'Adventure,Free to Play,Massively Multiplayer,RPG,Strategy',\n",
       "       'Action,Adventure,Casual,Indie,RPG',\n",
       "       'Action,Free to Play,Massively Multiplayer,RPG,Strategy',\n",
       "       'Free to Play,Indie,Massively Multiplayer,Strategy',\n",
       "       'Action,Free to Play,Massively Multiplayer,RPG',\n",
       "       'RPG,Simulation,Strategy', 'Action,Adventure,Free to Play,Indie',\n",
       "       'Action,Adventure,Free to Play,Indie,RPG',\n",
       "       'Action,Adventure,Casual,Free to Play,Massively Multiplayer,RPG,Simulation',\n",
       "       'Casual,Simulation,Strategy', 'Free to Play,Simulation',\n",
       "       'Free to Play,RPG,Strategy',\n",
       "       'Adventure,Casual,Free to Play,Massively Multiplayer,Strategy',\n",
       "       'Free to Play,Massively Multiplayer,Strategy',\n",
       "       'Adventure,Casual,Free to Play,Indie,RPG',\n",
       "       'Action,Casual,Indie,Racing,Sports',\n",
       "       'Free to Play,Indie,Massively Multiplayer', 'Utilities',\n",
       "       'Action,Adventure,Indie,RPG,Strategy',\n",
       "       'Action,Adventure,Indie,Simulation,Strategy',\n",
       "       'Animation & Modeling,Design & Illustration,Utilities,Video Production',\n",
       "       'Action,Casual,Free to Play,Massively Multiplayer',\n",
       "       'Action,Adventure,Casual,Free to Play,Indie,Massively Multiplayer',\n",
       "       'Adventure,Simulation,Strategy',\n",
       "       'Free to Play,Indie,Strategy,Early Access', 'RPG,Strategy',\n",
       "       'Indie,Simulation,Early Access',\n",
       "       'Action,Casual,Free to Play,Indie',\n",
       "       'Casual,Free to Play,Indie,Simulation',\n",
       "       'Action,Adventure,Massively Multiplayer,RPG,Simulation,Strategy',\n",
       "       'Action,Indie,Strategy,Early Access',\n",
       "       'Action,Adventure,Casual,Free to Play,Indie,Massively Multiplayer,RPG,Simulation',\n",
       "       'Casual,Simulation', 'Action,Adventure,Indie,Racing,Simulation',\n",
       "       'Casual,Free to Play,Massively Multiplayer',\n",
       "       'RPG,Massively Multiplayer', 'Massively Multiplayer,RPG',\n",
       "       'Sports,Strategy', 'Free to Play,Indie,Massively Multiplayer,RPG',\n",
       "       'Adventure,Casual,Indie,RPG,Simulation,Strategy',\n",
       "       'Adventure,Indie,RPG,Early Access',\n",
       "       'Indie,RPG,Simulation,Early Access',\n",
       "       'Action,Adventure,Casual,Indie,RPG,Strategy',\n",
       "       'Action,RPG,Strategy', 'Action,Adventure,Indie,RPG,Simulation',\n",
       "       'Action,Adventure,Casual,Indie,Strategy',\n",
       "       'Casual,Free to Play,Indie,Strategy',\n",
       "       'Action,Casual,Indie,Simulation', 'Casual,RPG',\n",
       "       'Action,Adventure,Casual',\n",
       "       'Casual,Free to Play,Massively Multiplayer,Strategy',\n",
       "       'Adventure,Indie,Early Access', 'Free to Play,Strategy',\n",
       "       'Free to Play,Massively Multiplayer,Simulation',\n",
       "       'Casual,Free to Play,Massively Multiplayer,Simulation',\n",
       "       'Indie,Racing,Simulation,Sports', 'Racing,Simulation',\n",
       "       'Casual,Free to Play,Massively Multiplayer,RPG',\n",
       "       'Adventure,Indie,RPG,Simulation,Strategy',\n",
       "       'Action,Free to Play,RPG', 'Free to Play,Racing,Simulation,Sports',\n",
       "       'Strategy,Casual', 'Action,Simulation,Early Access',\n",
       "       'Action,Indie,RPG,Simulation,Early Access',\n",
       "       'Action,Indie,RPG,Simulation,Strategy',\n",
       "       'Action,Casual,Free to Play,Strategy', 'Free to Play',\n",
       "       'Simulation,Sports', 'Casual,Indie,RPG,Simulation',\n",
       "       'Indie,Massively Multiplayer,RPG,Strategy',\n",
       "       'Casual,Indie,RPG,Simulation,Strategy',\n",
       "       'Action,Casual,Free to Play,Indie,Strategy',\n",
       "       'Action,Free to Play,Indie,RPG',\n",
       "       'Adventure,Casual,Indie,RPG,Strategy', 'Casual,Indie,Racing',\n",
       "       'Indie,Sports', 'Web Publishing',\n",
       "       'Free to Play,Simulation,Strategy',\n",
       "       'Action,Casual,Free to Play,Indie,RPG',\n",
       "       'Action,Indie,Racing,Simulation,Sports',\n",
       "       'Adventure,Casual,Early Access', 'Action,Casual,Strategy',\n",
       "       'Action,Strategy,Indie,Sports',\n",
       "       'Action,Adventure,Indie,RPG,Simulation,Early Access',\n",
       "       'Animation & Modeling,Education,Utilities,Web Publishing',\n",
       "       'Casual,Free to Play,Indie,Early Access',\n",
       "       'Adventure,Casual,Free to Play,Indie,Simulation',\n",
       "       'Free to Play,Indie,Strategy', 'Indie,Simulation,Sports',\n",
       "       'Casual,Indie,Simulation,Sports,Strategy',\n",
       "       'Action,Adventure,Simulation,Early Access',\n",
       "       'Massively Multiplayer,Racing,Simulation,Sports',\n",
       "       'Action,Casual,Indie,RPG', 'Action,Indie,Simulation,Early Access',\n",
       "       'Action,Adventure,Indie,Early Access',\n",
       "       'Adventure,Indie,Simulation,Strategy,Early Access',\n",
       "       'Action,Indie,Simulation,Strategy,Early Access',\n",
       "       'Free to Play,Indie,Massively Multiplayer,RPG,Simulation,Strategy',\n",
       "       'Action,Free to Play,Indie,Early Access', 'Action,Casual',\n",
       "       'Casual,Free to Play,Indie,RPG,Strategy',\n",
       "       'Action,Adventure,Indie,RPG,Early Access',\n",
       "       'Adventure,Free to Play', 'Indie,Simulation,Strategy,Early Access',\n",
       "       'Action,Adventure,Indie,Massively Multiplayer,RPG,Simulation,Strategy',\n",
       "       'Casual,Indie,RPG,Simulation,Strategy,Early Access',\n",
       "       'Action,Casual,Free to Play,RPG,Simulation,Strategy',\n",
       "       'Strategy,Action,Indie',\n",
       "       'Adventure,Casual,Indie,Simulation,Strategy', 'Free to Play,Indie',\n",
       "       'Adventure,Free to Play,Indie,Massively Multiplayer,RPG,Early Access',\n",
       "       'Action,Indie,RPG,Simulation', 'Action,Adventure,Indie,Strategy',\n",
       "       'Action,Casual,Indie,Sports,Strategy',\n",
       "       'Action,Casual,Indie,Sports', 'RPG,Simulation',\n",
       "       'Action,Casual,Indie,Racing', 'Action,Indie,Racing,Sports',\n",
       "       'Animation & Modeling,Video Production',\n",
       "       'Racing,Simulation,Early Access', 'Strategy,Simulation',\n",
       "       'Action,Indie,Massively Multiplayer', 'Casual,Indie,Early Access',\n",
       "       'Adventure,Casual,Indie,Simulation', 'Free to Play,RPG',\n",
       "       'Action,Casual,Simulation,Sports,Strategy',\n",
       "       'Adventure,Casual,Simulation',\n",
       "       'Action,Free to Play,Indie,Simulation,Strategy',\n",
       "       'Action,Adventure,Free to Play,Indie,Massively Multiplayer,RPG,Early Access',\n",
       "       'Simulation,Strategy,Early Access', 'Casual,Indie,Sports',\n",
       "       'Casual,Sports',\n",
       "       'Animation & Modeling,Education,Software Training,Utilities',\n",
       "       'Indie,Massively Multiplayer,RPG',\n",
       "       'Free to Play,Indie,RPG,Strategy', 'Action,Simulation',\n",
       "       'Strategy,Indie,Casual,Simulation', 'Sports',\n",
       "       'Free to Play,Sports', 'Adventure,Casual,Indie,Strategy',\n",
       "       'Action,Casual,Free to Play,Indie,Massively Multiplayer,Early Access',\n",
       "       'Casual,Free to Play', 'Action,Indie,RPG,Early Access',\n",
       "       'Action,Adventure,Casual,Free to Play,Racing', 'Casual,Racing',\n",
       "       'Action,Casual,Indie,RPG,Strategy', 'Action,Adventure,Strategy',\n",
       "       'Animation & Modeling,Design & Illustration,Education,Software Training,Utilities,Early Access',\n",
       "       'RPG,Indie', 'Strategy,RPG,Indie', 'Indie,Racing,Sports',\n",
       "       'Action,Adventure,Casual,Indie,Racing', 'Adventure,Casual,Racing',\n",
       "       'Adventure,RPG,Strategy',\n",
       "       'Adventure,Casual,Free to Play,Indie,RPG,Simulation',\n",
       "       'Casual,Indie,Massively Multiplayer,Racing', 'Indie,Early Access',\n",
       "       'Audio Production,Software Training,Utilities,Video Production',\n",
       "       'Animation & Modeling,Design & Illustration,Photo Editing,Utilities',\n",
       "       'Action,Adventure,Early Access,Indie,Strategy',\n",
       "       'Action,Strategy,Indie', 'Action,Casual,Indie,Early Access',\n",
       "       'Racing,Simulation,Sports,Strategy', 'Simulation,Sports,Strategy',\n",
       "       'Design & Illustration,Utilities,Web Publishing',\n",
       "       'RPG,Simulation,Strategy,Early Access',\n",
       "       'Action,Adventure,Casual,Indie,RPG,Simulation,Strategy',\n",
       "       'Action,Casual,Indie,Simulation,Strategy,Early Access',\n",
       "       'Action,Adventure,Simulation', 'Action,Indie,RPG,Sports',\n",
       "       'Action,Casual,Indie,Racing,Simulation,Sports',\n",
       "       'Action,Massively Multiplayer,Racing,RPG,Simulation,Early Access',\n",
       "       'Action,Adventure,Free to Play,RPG,Simulation',\n",
       "       'Action,Indie,Massively Multiplayer,Simulation,Strategy,Early Access'],\n",
       "      dtype=object)"
      ]
     },
     "metadata": {},
     "output_type": "display_data"
    }
   ],
=======
   "execution_count": null,
   "id": "dea1e849",
   "metadata": {},
   "outputs": [],
>>>>>>> Stashed changes
   "source": [
    "display(genres_names)"
   ]
  },
  {
   "cell_type": "code",
   "execution_count": 27,
   "id": "c4a59a30",
   "metadata": {},
   "outputs": [],
   "source": [
    "tags_names = df['popular_tags'].unique()"
   ]
  },
  {
   "cell_type": "code",
   "execution_count": 32,
   "id": "07b06d72",
   "metadata": {
    "scrolled": true
   },
   "outputs": [
    {
     "data": {
      "text/plain": [
       "array(['Open World,Post-apocalyptic,Exploration,Singleplayer,RPG,Atmospheric,Adventure,Shooter,First-Person,Story Rich,Action,Sci-fi,FPS,Action RPG,Sandbox,Great Soundtrack,Third Person,Survival,Third-Person Shooter,Casual',\n",
       "       'Zombies,Co-op,FPS,Multiplayer,Shooter,Action,Online Co-Op,Survival,Horror,First-Person,Gore,Team-Based,Moddable,Survival Horror,Post-apocalyptic,Singleplayer,Adventure,Replay Value,Local Co-Op,Tactical',\n",
       "       'Nudity,Mature,Anime,Sexual Content,Dating Sim,Puzzle,Match 3,Romance,Singleplayer,Cute,Comedy,Indie,RPG,Casual,Story Rich,Strategy,Great Soundtrack,Memes,2D,Point & Click',\n",
       "       ...,\n",
       "       'Early Access,Action,Indie,Early Access,Multiplayer,Medieval,Fantasy,Hack and Slash,Singleplayer',\n",
       "       'Early Access,Early Access,Strategy,Indie,Simulation,Adventure,Pixel Graphics,Medieval,God Game,Atmospheric,2D,Addictive,Economy',\n",
       "       'Strategy,RTS,Action,FPS,Base Building,Robots,Sci-fi,Shooter,War,Multiplayer,Indie,Singleplayer,Real-Time,Co-op,First-Person,Open World,Sandbox'],\n",
       "      dtype=object)"
      ]
     },
     "metadata": {},
     "output_type": "display_data"
    }
   ],
   "source": [
    "display(tags_names)"
   ]
  },
  {
   "cell_type": "code",
   "execution_count": 36,
   "id": "fda52cef",
   "metadata": {},
   "outputs": [
    {
     "name": "stdout",
     "output_type": "stream",
     "text": [
      "<class 'numpy.ndarray'>\n"
     ]
    }
   ],
   "source": [
    "print(type(tags_names))"
   ]
  },
  {
   "cell_type": "code",
   "execution_count": 39,
   "id": "7e5dbaf6",
   "metadata": {},
   "outputs": [],
   "source": [
    "tags_names=pd.DataFrame(tags_names)"
   ]
  },
  {
   "cell_type": "code",
   "execution_count": 69,
   "id": "7bfedcb9",
   "metadata": {},
   "outputs": [],
   "source": [
    "#tags_names.to_csv('tags_names.csv')"
   ]
  },
  {
   "cell_type": "markdown",
   "id": "fd2f034d",
   "metadata": {},
   "source": [
    "# Analysing data"
   ]
  },
  {
   "cell_type": "code",
   "execution_count": 66,
   "id": "055640c4",
   "metadata": {},
   "outputs": [
    {
     "data": {
      "text/plain": [
       "<seaborn.axisgrid.PairGrid at 0x267b6e496d0>"
      ]
     },
     "execution_count": 66,
     "metadata": {},
     "output_type": "execute_result"
    },
    {
     "data": {
      "image/png": "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\n",
      "text/plain": [
       "<Figure size 900x900 with 30 Axes>"
      ]
     },
     "metadata": {},
     "output_type": "display_data"
    }
   ],
   "source": [
    "sns.pairplot(df)"
   ]
  },
  {
   "cell_type": "code",
   "execution_count": 63,
   "id": "fe1d8377",
   "metadata": {},
   "outputs": [
    {
     "data": {
      "text/plain": [
       "<AxesSubplot:xlabel='hours', ylabel='Density'>"
      ]
     },
     "execution_count": 63,
     "metadata": {},
     "output_type": "execute_result"
    },
    {
     "data": {
      "image/png": "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\n",
      "text/plain": [
       "<Figure size 864x432 with 1 Axes>"
      ]
     },
     "metadata": {},
     "output_type": "display_data"
    }
   ],
   "source": [
    "sns.kdeplot(df['hours'])"
   ]
  },
  {
   "cell_type": "code",
   "execution_count": 64,
   "id": "b954319e",
   "metadata": {},
   "outputs": [
    {
     "data": {
      "text/plain": [
       "0.0       19956\n",
       "0.2        1457\n",
       "0.3        1268\n",
       "0.4        1079\n",
       "0.5         878\n",
       "          ...  \n",
       "1024.0        1\n",
       "1391.0        1\n",
       "1009.0        1\n",
       "1299.0        1\n",
       "1295.0        1\n",
       "Name: hours, Length: 1317, dtype: int64"
      ]
     },
     "execution_count": 64,
     "metadata": {},
     "output_type": "execute_result"
    }
   ],
   "source": [
    "df[\"hours\"].value_counts()"
   ]
  },
  {
   "cell_type": "code",
   "execution_count": 55,
   "id": "ee40f4b0",
   "metadata": {},
   "outputs": [
    {
     "ename": "TypeError",
     "evalue": "'module' object is not subscriptable",
     "output_type": "error",
     "traceback": [
      "\u001b[1;31m---------------------------------------------------------------------------\u001b[0m",
      "\u001b[1;31mTypeError\u001b[0m                                 Traceback (most recent call last)",
      "Input \u001b[1;32mIn [55]\u001b[0m, in \u001b[0;36m<cell line: 1>\u001b[1;34m()\u001b[0m\n\u001b[1;32m----> 1\u001b[0m values\u001b[38;5;241m=\u001b[39mnp\u001b[38;5;241m.\u001b[39mcumsum(\u001b[43mnp\u001b[49m\u001b[43m[\u001b[49m\u001b[38;5;124;43m'\u001b[39;49m\u001b[38;5;124;43mhours\u001b[39;49m\u001b[38;5;124;43m'\u001b[39;49m\u001b[43m]\u001b[49m)\n\u001b[0;32m      3\u001b[0m \u001b[38;5;66;03m# use the plot function\u001b[39;00m\n\u001b[0;32m      4\u001b[0m plt\u001b[38;5;241m.\u001b[39mplot(values)\n",
      "\u001b[1;31mTypeError\u001b[0m: 'module' object is not subscriptable"
     ]
    }
   ],
   "source": [
    "values=np.cumsum(np['hours'])\n",
    " \n",
    "# use the plot function\n",
    "plt.plot(values)\n",
    "\n",
    "# show the graph\n",
    "plt.show()\n"
   ]
  }
 ],
 "metadata": {
  "kernelspec": {
   "display_name": "Python 3 (ipykernel)",
   "language": "python",
   "name": "python3"
  },
  "language_info": {
   "codemirror_mode": {
    "name": "ipython",
    "version": 3
   },
   "file_extension": ".py",
   "mimetype": "text/x-python",
   "name": "python",
   "nbconvert_exporter": "python",
   "pygments_lexer": "ipython3",
<<<<<<< Updated upstream
   "version": "3.9.12"
=======
   "version": "3.9.13"
>>>>>>> Stashed changes
  }
 },
 "nbformat": 4,
 "nbformat_minor": 5
}
